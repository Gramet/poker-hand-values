{
  "cells": [
    {
      "cell_type": "markdown",
      "metadata": {},
      "source": [
        "# Poker Hand Values\n",
        "## Gaétan Ramet"
      ]
    },
    {
      "cell_type": "markdown",
      "metadata": {
        "id": "UrBAEPi7sN64",
        "colab_type": "text"
      },
      "source": [
        "\n",
        "## Import packages"
      ]
    },
    {
      "cell_type": "code",
      "metadata": {
        "id": "V7IN8SRHsN65",
        "colab_type": "code",
        "colab": {}
      },
      "source": [
        "import sys\n",
        "import pandas as pd\n",
        "import numpy as np\n",
        "from collections import Counter\n",
        "from sklearn.model_selection import train_test_split\n",
        "from sklearn.linear_model import LogisticRegression\n",
        "from sklearn.svm import SVC\n",
        "from sklearn.metrics import f1_score,precision_score,recall_score,accuracy_score"
      ],
      "execution_count": 1,
      "outputs": []
    },
    {
      "cell_type": "markdown",
      "metadata": {
        "id": "hF3-wX5rsN68",
        "colab_type": "text"
      },
      "source": [
        "## Load Data\n",
        "We use pandas library to load our data. Pandas loads them into dataframes which helps us analyze our data easily. Learn more about it [here](https://www.tutorialspoint.com/python_data_science/python_pandas.htm)"
      ]
    },
    {
      "cell_type": "code",
      "metadata": {
        "id": "l2OCFvNysN69",
        "colab_type": "code",
        "colab": {}
      },
      "source": [
        "train_data_path = \"train.csv\" #path where data is stored"
      ],
      "execution_count": 2,
      "outputs": []
    },
    {
      "cell_type": "code",
      "metadata": {
        "id": "n-9wQgZGsN7A",
        "colab_type": "code",
        "colab": {}
      },
      "source": [
        "train_data = pd.read_csv(train_data_path) #load data in dataframe using pandas"
      ],
      "execution_count": 3,
      "outputs": []
    },
    {
      "cell_type": "markdown",
      "metadata": {
        "id": "c-zLiCVfsN7E",
        "colab_type": "text"
      },
      "source": [
        "## Visualize data"
      ]
    },
    {
      "cell_type": "code",
      "metadata": {
        "id": "zlZDo7hEsN7F",
        "colab_type": "code",
        "colab": {
          "base_uri": "https://localhost:8080/",
          "height": 202
        },
        "outputId": "ad352cfa-e381-4c7e-9d8b-96ccc8e1aae9"
      },
      "source": [
        "train_data.head()"
      ],
      "execution_count": 4,
      "outputs": [
        {
          "output_type": "execute_result",
          "data": {
            "text/plain": "   S1  C1  S2  C2  S3  C3  S4  C4  S5  C5  label\n0   1   1   1  13   2   4   2   3   1  12      0\n1   3  12   3   2   3  11   4   5   2   5      1\n2   1   9   4   6   1   4   3   2   3   9      1\n3   1   4   3  13   2  13   2   1   3   6      1\n4   3  10   2   7   1   2   2  11   4   9      0",
            "text/html": "<div>\n<style scoped>\n    .dataframe tbody tr th:only-of-type {\n        vertical-align: middle;\n    }\n\n    .dataframe tbody tr th {\n        vertical-align: top;\n    }\n\n    .dataframe thead th {\n        text-align: right;\n    }\n</style>\n<table border=\"1\" class=\"dataframe\">\n  <thead>\n    <tr style=\"text-align: right;\">\n      <th></th>\n      <th>S1</th>\n      <th>C1</th>\n      <th>S2</th>\n      <th>C2</th>\n      <th>S3</th>\n      <th>C3</th>\n      <th>S4</th>\n      <th>C4</th>\n      <th>S5</th>\n      <th>C5</th>\n      <th>label</th>\n    </tr>\n  </thead>\n  <tbody>\n    <tr>\n      <th>0</th>\n      <td>1</td>\n      <td>1</td>\n      <td>1</td>\n      <td>13</td>\n      <td>2</td>\n      <td>4</td>\n      <td>2</td>\n      <td>3</td>\n      <td>1</td>\n      <td>12</td>\n      <td>0</td>\n    </tr>\n    <tr>\n      <th>1</th>\n      <td>3</td>\n      <td>12</td>\n      <td>3</td>\n      <td>2</td>\n      <td>3</td>\n      <td>11</td>\n      <td>4</td>\n      <td>5</td>\n      <td>2</td>\n      <td>5</td>\n      <td>1</td>\n    </tr>\n    <tr>\n      <th>2</th>\n      <td>1</td>\n      <td>9</td>\n      <td>4</td>\n      <td>6</td>\n      <td>1</td>\n      <td>4</td>\n      <td>3</td>\n      <td>2</td>\n      <td>3</td>\n      <td>9</td>\n      <td>1</td>\n    </tr>\n    <tr>\n      <th>3</th>\n      <td>1</td>\n      <td>4</td>\n      <td>3</td>\n      <td>13</td>\n      <td>2</td>\n      <td>13</td>\n      <td>2</td>\n      <td>1</td>\n      <td>3</td>\n      <td>6</td>\n      <td>1</td>\n    </tr>\n    <tr>\n      <th>4</th>\n      <td>3</td>\n      <td>10</td>\n      <td>2</td>\n      <td>7</td>\n      <td>1</td>\n      <td>2</td>\n      <td>2</td>\n      <td>11</td>\n      <td>4</td>\n      <td>9</td>\n      <td>0</td>\n    </tr>\n  </tbody>\n</table>\n</div>"
          },
          "metadata": {},
          "execution_count": 4
        }
      ]
    },
    {
      "cell_type": "markdown",
      "metadata": {
        "id": "dEwK2eGCsN7I",
        "colab_type": "text"
      },
      "source": [
        "We can see there are 11 column where first 10 column contains the cards information and the last one describing the hand it makes. 1st and 2nd column contains suit and rank of first card respectively, 3rd and 4th column suit and rank of 2nd card and so on.\n",
        "\n",
        "## Value Computation\n",
        "\n",
        "Let's now implement the logic to compute the value of a hand"
      ]
    },
    {
      "cell_type": "code",
      "execution_count": 5,
      "metadata": {},
      "outputs": [],
      "source": [
        "\n",
        "\n",
        "def isFlush(suits):\n",
        "    if len(set(suits)) == 1:\n",
        "        return True\n",
        "    return False\n",
        "\n",
        "def isStraight(vals):\n",
        "    if (vals == [1, 10, 11, 12,13]) or ((vals[len(vals)-1] - vals[0] == 4) and (len(set(vals)) == 5)):\n",
        "        return True\n",
        "    return False\n",
        "\n",
        "def isFour(vals_c):\n",
        "    if sorted(vals_c.values()) == [1, 4]:\n",
        "        return True\n",
        "    return False\n",
        "\n",
        "def isFull(vals_c):\n",
        "    if sorted(vals_c.values()) == [2, 3]:\n",
        "        return True\n",
        "    return False\n",
        "\n",
        "def isSet(vals_c):\n",
        "    if sorted(vals_c.values()) == [1, 1, 3]:\n",
        "        return True\n",
        "    return False\n",
        "\n",
        "def isTwoPairs(vals_c):\n",
        "    if sorted(vals_c.values()) == [1, 2, 2]:\n",
        "        return True\n",
        "    return False\n",
        "\n",
        "def isPair(vals_c):\n",
        "    if sorted(vals_c.values()) == [1, 1, 1, 2]:\n",
        "        return True\n",
        "    return False\n",
        "\n",
        "\n",
        "def hand_value(hand):\n",
        "    \"\"\"Compute the value of a hand\"\"\"\n",
        "    suits = [hand['S1'], hand['S2'], hand['S3'], hand['S4'], hand['S5']]\n",
        "    vals = sorted([hand['C1'], hand['C2'], hand['C3'], hand['C4'], hand['C5']])\n",
        "    vals_c = Counter(vals)\n",
        "\n",
        "    is_flush = False\n",
        "    if isFlush(suits):\n",
        "        if isStraight(vals):\n",
        "            if vals == [1, 10, 11, 12, 13]:\n",
        "                # Royal Flush\n",
        "                return 9\n",
        "            # Straight Flush\n",
        "            return 8\n",
        "        # Flush\n",
        "        is_flush = True\n",
        "\n",
        "    if isFour(vals_c):\n",
        "        # Four of a Kind\n",
        "        return 7\n",
        "    \n",
        "    if isFull(vals_c):\n",
        "        # Full House\n",
        "        return 6\n",
        "    \n",
        "    if is_flush:\n",
        "        # Flush\n",
        "        return 5\n",
        "\n",
        "    if isStraight(vals):\n",
        "        # Straight\n",
        "        return 4\n",
        "\n",
        "    if isSet(vals_c):\n",
        "        # Set\n",
        "        return 3\n",
        "\n",
        "    if isTwoPairs(vals_c):\n",
        "        # Two pairs\n",
        "        return 2\n",
        "\n",
        "    if isPair(vals_c):\n",
        "        return 1\n",
        "\n",
        "    # High Card\n",
        "    return 0"
      ]
    },
    {
      "cell_type": "code",
      "metadata": {
        "id": "y_0ZERsusN7N",
        "colab_type": "code",
        "colab": {}
      },
      "source": [
        "X_train,y_train = train_data.iloc[:,:-1], train_data.iloc[:,-1]"
      ],
      "execution_count": 6,
      "outputs": []
    },
    {
      "cell_type": "markdown",
      "metadata": {
        "id": "m4gtAelJsN7a",
        "colab_type": "text"
      },
      "source": [
        "## Check correctness on train set\n"
      ]
    },
    {
      "cell_type": "code",
      "execution_count": 7,
      "metadata": {},
      "outputs": [
        {
          "output_type": "execute_result",
          "data": {
            "text/plain": "0    0\n1    1\n2    1\n3    1\n4    0\ndtype: int64"
          },
          "metadata": {},
          "execution_count": 7
        }
      ],
      "source": [
        "y_pred = X_train.apply(hand_value, axis=1)\n",
        "y_pred.head()"
      ]
    },
    {
      "cell_type": "code",
      "execution_count": 8,
      "metadata": {},
      "outputs": [
        {
          "output_type": "execute_result",
          "data": {
            "text/plain": "0    501209\n1    422498\n2     47622\n3     21121\n4      3885\n5      1996\n6      1424\n7       230\n8        12\n9         3\nName: label, dtype: int64"
          },
          "metadata": {},
          "execution_count": 8
        }
      ],
      "source": [
        "y_train.head()\n",
        "y_train.value_counts()"
      ]
    },
    {
      "cell_type": "markdown",
      "metadata": {
        "id": "Pucyqi0msN7e",
        "colab_type": "text"
      },
      "source": [
        "## Evaluate the Performance\n",
        "We use the same metrics as that will be used for the test set.  \n",
        "[F1 score](https://en.wikipedia.org/wiki/F1_score) are the metrics for this challenge"
      ]
    },
    {
      "cell_type": "code",
      "metadata": {
        "id": "8kfAVYIjsN7e",
        "colab_type": "code",
        "colab": {}
      },
      "source": [
        "precision = precision_score(y_train,y_pred,average='micro')\n",
        "recall = recall_score(y_train,y_pred,average='micro')\n",
        "accuracy = accuracy_score(y_train,y_pred)\n",
        "f1 = f1_score(y_train,y_pred,average='macro')"
      ],
      "execution_count": 9,
      "outputs": []
    },
    {
      "cell_type": "code",
      "metadata": {
        "id": "bh03b3TFsN7h",
        "colab_type": "code",
        "colab": {
          "base_uri": "https://localhost:8080/",
          "height": 87
        },
        "outputId": "99b57754-96dc-4f26-d459-2c75fb1dbeba"
      },
      "source": [
        "print(\"Accuracy of the model is :\" ,accuracy)\n",
        "print(\"Recall of the model is :\" ,recall)\n",
        "print(\"Precision of the model is :\" ,precision)\n",
        "print(\"F1 score of the model is :\" ,f1)"
      ],
      "execution_count": 10,
      "outputs": [
        {
          "output_type": "stream",
          "name": "stdout",
          "text": "Accuracy of the model is : 1.0\nRecall of the model is : 1.0\nPrecision of the model is : 1.0\nF1 score of the model is : 1.0\n"
        }
      ]
    },
    {
      "cell_type": "markdown",
      "metadata": {
        "id": "wqiwy7wRsN7k",
        "colab_type": "text"
      },
      "source": [
        "# Prediction on Evaluation Set"
      ]
    },
    {
      "cell_type": "markdown",
      "metadata": {
        "id": "Yt2HKbUnsN7k",
        "colab_type": "text"
      },
      "source": [
        "## Load Test Set\n",
        "Load the test data now"
      ]
    },
    {
      "cell_type": "code",
      "metadata": {
        "id": "vEv_IDgIsN7l",
        "colab_type": "code",
        "colab": {}
      },
      "source": [
        "final_test_path = \"test.csv\"\n",
        "final_test = pd.read_csv(final_test_path)\n",
        "final_test.head()\n",
        "len(final_test)"
      ],
      "execution_count": 11,
      "outputs": [
        {
          "output_type": "execute_result",
          "data": {
            "text/plain": "25010"
          },
          "metadata": {},
          "execution_count": 11
        }
      ]
    },
    {
      "cell_type": "markdown",
      "metadata": {
        "id": "P_OpLwqHsN7n",
        "colab_type": "text"
      },
      "source": [
        "## Predict Test Set\n",
        "Time for the moment of truth! Predict on test set and time to make the submission."
      ]
    },
    {
      "cell_type": "code",
      "metadata": {
        "id": "sSxKoZQesN7o",
        "colab_type": "code",
        "colab": {}
      },
      "source": [
        "submission = final_test.apply(hand_value, axis=1)"
      ],
      "execution_count": 12,
      "outputs": []
    },
    {
      "cell_type": "markdown",
      "metadata": {
        "id": "cxcqNSubsN7r",
        "colab_type": "text"
      },
      "source": [
        "## Save the prediction to csv"
      ]
    },
    {
      "cell_type": "code",
      "metadata": {
        "id": "fz9mhcLQsN7r",
        "colab_type": "code",
        "colab": {}
      },
      "source": [
        "#submission = pd.DataFrame(submission)\n",
        "submission.to_csv('results/submission_4.csv',header=['label'],index=False)"
      ],
      "execution_count": 13,
      "outputs": []
    },
    {
      "cell_type": "code",
      "execution_count": 14,
      "metadata": {},
      "outputs": [],
      "source": [
        "final_test_with_preds = final_test\n",
        "final_test_with_preds['pred'] = submission"
      ]
    },
    {
      "cell_type": "code",
      "execution_count": 15,
      "metadata": {},
      "outputs": [],
      "source": [
        "final_test_with_preds.to_csv('preds.csv', index=False)"
      ]
    },
    {
      "cell_type": "code",
      "execution_count": null,
      "metadata": {},
      "outputs": [],
      "source": []
    }
  ],
  "metadata": {
    "kernelspec": {
      "display_name": "Python 3.6.9 64-bit",
      "language": "python",
      "name": "python36964bit613a1a17da924b45807cfcfd344f2011"
    },
    "language_info": {
      "codemirror_mode": {
        "name": "ipython",
        "version": 3
      },
      "file_extension": ".py",
      "mimetype": "text/x-python",
      "name": "python",
      "nbconvert_exporter": "python",
      "pygments_lexer": "ipython3",
      "version": "3.6.9-final"
    },
    "colab": {
      "name": "005cd2a9231779a260fc4bd96159dff6",
      "provenance": []
    }
  },
  "nbformat": 4,
  "nbformat_minor": 0
}